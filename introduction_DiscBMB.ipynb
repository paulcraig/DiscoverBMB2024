{
 "cells": [
  {
   "cell_type": "markdown",
   "id": "0d8cfdcc",
   "metadata": {},
   "source": [
    "Introduction\n",
    "=========="
   ]
  },
  {
   "cell_type": "markdown",
   "id": "f25f2530",
   "metadata": {},
   "source": [
    "\n",
    "### Questions\n",
    "\n",
    "* What is the basic syntax of the Python programming language?\n",
    "* What are some coding tools I need to help me get started?\n",
    "\n",
    "### Objectives\n",
    "\n",
    "* Assign values to variables\n",
    "* Use the print function to check how the code is working.\n",
    "* Use multiple assignment to assign several variables at once.\n",
    "* Use a for loop to perform the same action on the items in a list.\n",
    "* Use logic in a coding sequence\n",
    "* Have some fun with plotting and non-linear regression"
   ]
  },
  {
   "cell_type": "markdown",
   "id": "a392eb17",
   "metadata": {},
   "source": [
    "## Getting Started\n",
    "Python is a computer programming language that has become ubiquitous in scientific programming.  Our lessons will run python *interactively* through a python interpreter inside a Jupyter notebook.  If you have set up an account in [ChemCompute.org](https://chemcompute.org/), then you should be ready to go. \n",
    "\n",
    "### Setting up your Jupyter notebooks\n",
    "If you are in the Easing into Coding workshop, you should be with me in this cell right now. We are going to use a Jupyter notebook to execute Python code. Jupyter notebooks are divided into cells. You run a Jupyter notebook one cell at a time. To execute a cell, click inside the cell and press `shift+enter`.\n",
    "\n",
    "In the upper left corner, click where it says \"Untitled\" and change the name to \"ASBMB Easing into Coding Workshop\". We have now changed the name of the Jupyter Notebook.\n",
    "\n",
    "Jupyter notebooks allow us to also use something called **markdown** in some cells. We can use markdown to write descriptions about our notebooks for others to read. It's a good practice to write your first cell in markdown to explain the purpose of the notebook. Let's do that in the next cell. Click on the \"+\" sign just below \"File\" on the top of the screen to add a new cell below this one.\n",
    "\n",
    "\n",
    "Now, click inside that cell and select Markdown from the drop-down menu at the top of the page that includes the options Code | Markdown | Raw NBConvert | Heading. Once you do that you can start entering text, so type in the following code \n",
    "\n",
    "\n",
    "\n",
    "```    \n",
    "    # Easing to Coding Workshop\n",
    "    ## Introduction\n",
    "\n",
    "    This lesson covers Python basics like variable creation \n",
    "    and assignment and using the Jupyter notebook\n",
    "```\n",
    "\n",
    "If all goes well, your new cell should look like this ![image](images/Opening_easing_screen.png)\n"
   ]
  },
  {
   "cell_type": "markdown",
   "id": "762d986c",
   "metadata": {},
   "source": [
    "## Assigning variables and data types\n",
    "\n",
    "Any python interpreter can work just like a calculator.  This is not very useful. Type the following into the next cell of your Jupyter notebook."
   ]
  },
  {
   "cell_type": "code",
   "execution_count": 1,
   "id": "675fc3ac",
   "metadata": {},
   "outputs": [
    {
     "data": {
      "text/plain": [
       "10"
      ]
     },
     "execution_count": 1,
     "metadata": {},
     "output_type": "execute_result"
    }
   ],
   "source": [
    "3+7"
   ]
  },
  {
   "cell_type": "markdown",
   "id": "eb40c496",
   "metadata": {},
   "source": [
    "Here, Python has performed a calculation for us. To save this value, or other values, we assign them to a variable for later use. The syntax for assigning variables is the following:\n",
    "\n",
    "```python\n",
    "variable_name = variable_value\n",
    "```\n",
    "\n",
    "Let's see this in action with a calculation. Type the following into the next cell of your Jupyter notebook.\n",
    "\n",
    "As a practice, if there is a lot of information to enter in a code cell, it will be provided or copy-and-paste from a markdown cell. Here is the code for the next cell.\n",
    "\n",
    "```\n",
    "# Calculations using the Michaelis-Menten Equation\n",
    "Km = 15.0                # Km = 15 micromolar\n",
    "Vmax = 100.0             # Vmax = 100.0 nanomoles/sec\n",
    "substrate_concentration = 8.0                  # Substrate concentration is 8.0 micromolar\n",
    "velocity = Vmax * substrate_concentration/(Km + substrate_concentration)    # Michaelis-Menten equation\n",
    "```"
   ]
  },
  {
   "cell_type": "code",
   "execution_count": 44,
   "id": "f4311744",
   "metadata": {},
   "outputs": [],
   "source": []
  },
  {
   "cell_type": "markdown",
   "id": "b3a9fe22",
   "metadata": {},
   "source": [
    "Notice several things about this code.  You can use `#` to add comments to your code, both at the start of a line and in the middle of the line (then the rest of the line is a comment).  The computer does not do anything with these comments.  They have been used here to remind the user what units are used for each of their values. Comments are also often used to explain what the code is doing or leave information for future people who might use the code.  \n",
    "\n",
    "When choosing variable names, you should choose informative names so that someone reading your code can tell what they represent.  Naming a variable temp or temperature is much more informative than naming that variable t.\n",
    "\n",
    "We can now access any of the variables from other cells. Let's print the value that we calculated. In the next cell, type\n",
    "\n",
    "```\n",
    "print(velocity)\n",
    "```"
   ]
  },
  {
   "cell_type": "code",
   "execution_count": null,
   "id": "965b5239",
   "metadata": {},
   "outputs": [],
   "source": []
  },
  {
   "cell_type": "markdown",
   "id": "4b271ce6",
   "metadata": {},
   "source": [
    "## Assigning multiple variables at once\n",
    "\n",
    "Python can do what is called multiple assignment where you assign several variables their values on one line of code.  The following code block does the exact same thing as the previous code block.\n",
    "\n",
    "```\n",
    "# I can assign all these variables at once\n",
    "Km, vmax, substrate_concentration = 15.0, 100.0, 8.0\n",
    "velocity = vmax * substrate_concentration/(Km + substrate_concentration)\n",
    "print(velocity)\n",
    "```"
   ]
  },
  {
   "cell_type": "code",
   "execution_count": null,
   "id": "45854faa",
   "metadata": {},
   "outputs": [],
   "source": []
  },
  {
   "cell_type": "markdown",
   "id": "f75ebf3d",
   "metadata": {},
   "source": [
    "## Data types\n",
    "\n",
    "Each variable is some particular type of data.  The most common types of data are strings (`str`), integers (`int`), and floating point numbers (`float`).  You can identify the data type of any variable with the function `type(variable_name)`."
   ]
  },
  {
   "cell_type": "code",
   "execution_count": null,
   "id": "ea222f8d",
   "metadata": {},
   "outputs": [],
   "source": []
  },
  {
   "cell_type": "markdown",
   "id": "eb83131c",
   "metadata": {},
   "source": [
    "You can change the data type of a variable like this.  This is called casting.\n",
    "\n",
    "```\n",
    "velocity_string = str(velocity)\n",
    "type(velocity_string)\n",
    "```"
   ]
  },
  {
   "cell_type": "code",
   "execution_count": null,
   "id": "673d1807",
   "metadata": {},
   "outputs": [],
   "source": []
  },
  {
   "cell_type": "markdown",
   "id": "da159665",
   "metadata": {},
   "source": [
    "## Lists\n",
    "\n",
    "Another common data structure in python is the list.  Lists can be used to group several values or variables together, and are declared using square brackets \\[_\\]. **Python assigns special meanings to square brackets \\[\\], parentheses () and curly brackets {}, so you must be very careful with these characters.** List values are separated by commas. Python has several built in functions which can be used on lists. The built-in function `len` can be used to determine the length of a list. This code block also demonstrates how to print multiple variables.\n",
    "\n",
    "```\n",
    "# This is a list\n",
    "substrate_concs = [1.0, 2.0, 3.0, 4.0, 6.0, 8.0, 10.0, 15.0, 20.0, 30.0, 50.0, 75.0, 100.0] #micromolar\n",
    "\n",
    "# I can determine its length\n",
    "s_length = len(substrate_concs)\n",
    "\n",
    "# Print the length of the list\n",
    "print('This list contains', s_length, 'substrate concentrations')\n",
    "```"
   ]
  },
  {
   "cell_type": "code",
   "execution_count": null,
   "id": "483c82dd",
   "metadata": {},
   "outputs": [],
   "source": []
  },
  {
   "cell_type": "markdown",
   "id": "7334b30a",
   "metadata": {},
   "source": [
    "If you want to operate on a particular element of the list, you use the list name and then put in brackets which element of the list you want.  **In python counting starts at zero.  So the first element of the list is `list[0]`**"
   ]
  },
  {
   "cell_type": "code",
   "execution_count": 51,
   "id": "79babd57",
   "metadata": {},
   "outputs": [],
   "source": [
    "# Print the first element of the list\n"
   ]
  },
  {
   "cell_type": "markdown",
   "id": "ce23bc5a",
   "metadata": {},
   "source": [
    "## Repeating an operation many times: for loops\n",
    "Often, you will want to do something to every element of a list.  The structure\n",
    "to do this is called a `for` loop.  The general structure of a `for` loop is\n",
    "```python\n",
    "for variable in list:\n",
    "    do things using variable\n",
    "```\n",
    "\n",
    "Indentation is very important in python.  There is nothing like an `end` or `exit` statement that tells you that you are finished with the loop.  The indentation shows you what statements are in the loop.  Let's use a loop to calculate initial velocities for all the substrate concentration in our S list. \n",
    "\n",
    "```\n",
    "substrate_concs = [1.0, 2.0, 3.0, 4.0, 6.0, 8.0, 10.0, 15.0, 20.0, 30.0, 50.0, 75.0, 100.0]\n",
    "for number in substrate_concs:\n",
    "    velocity = Vmax * number / (Km + number)\n",
    "    print(velocity)\n",
    "```"
   ]
  },
  {
   "cell_type": "code",
   "execution_count": null,
   "id": "6307f515",
   "metadata": {},
   "outputs": [],
   "source": []
  },
  {
   "cell_type": "markdown",
   "id": "3487b5d1",
   "metadata": {},
   "source": [
    "Now it seems like we are really getting somewhere with our program!  But it would be even better if instead of just printing the values, it saved them in a new list.  To do this, we are going to use the `append` function.  The `append` function adds a new item to the end of an existing list.  The general form of the append function is\n",
    "\n",
    "```python\n",
    "list_name.append(new_thing)\n",
    "```"
   ]
  },
  {
   "cell_type": "markdown",
   "id": "b5c90722",
   "metadata": {},
   "source": [
    "Try running this block of code.  See if you can figure out why it doesn't work.\n",
    "\n",
    "```substrate_concs = [1.0, 2.0, 3.0, 4.0, 6.0, 8.0, 10.0, 15.0, 20.0, 30.0, 50.0, 75.0, 100.0]\n",
    "for number in substrate_concs:\n",
    "    V = Vmax * number / (Km + number)\n",
    "    velocities.append(V)\n",
    "    \n",
    "print(velocities)\n",
    "\n",
    "```"
   ]
  },
  {
   "cell_type": "code",
   "execution_count": null,
   "id": "89df3aa8",
   "metadata": {},
   "outputs": [],
   "source": []
  },
  {
   "cell_type": "markdown",
   "id": "6379de37",
   "metadata": {},
   "source": [
    "This code doesn't work because on the first iteration of our loop, the list `velocities` doesn't exist.  To make it work, we have to start the list outside of the loop.  The list can be blank when we start it, but we have to start it. Simply add this line of code at the beginning of the previous cell and see how it works.\n",
    "\n",
    "```\n",
    "velocities = []\n",
    "```"
   ]
  },
  {
   "cell_type": "code",
   "execution_count": null,
   "id": "52c79858",
   "metadata": {},
   "outputs": [],
   "source": []
  },
  {
   "cell_type": "markdown",
   "id": "3f553d46",
   "metadata": {},
   "source": [
    "## Making choices: Logic Statements\n",
    "Within your code, you may need to evaluate a variable and then do something if the variable has a particular value.  This type of logic is handled by an `if` statement.  In the following example, we are only going to use the lower substrate concentrations, as we might do when we are looking for the initial linear portion of a Michaelis-Menten curve. **As a biochemist, you may want to plot the data to see what you find. We will address plotting later in the workshop.**\n",
    "\n",
    "```\n",
    "Km, Vmax = 15.0, 100.0\n",
    "linear_MM = []\n",
    "\n",
    "subtrate_concs = [1.0, 2.0, 3.0, 4.0, 6.0, 8.0, 10.0, 15.0, 20.0, 30.0, 50.0, 75.0, 100.0]\n",
    "for number in substrate_concs:\n",
    "    if number < Km/4:\n",
    "        V_linear = Vmax * number / (Km + number)\n",
    "        linear_MM.append(V_linear)\n",
    "\n",
    "print(linear_MM)\n",
    "```"
   ]
  },
  {
   "cell_type": "code",
   "execution_count": 17,
   "id": "cf968b6c",
   "metadata": {},
   "outputs": [
    {
     "name": "stdout",
     "output_type": "stream",
     "text": [
      "[6.25, 11.764705882352942, 16.666666666666668]\n"
     ]
    }
   ],
   "source": [
    "Km, Vmax = 15.0, 100.0\n",
    "linear_MM = []\n",
    "\n",
    "subtrate_concs = [1.0, 2.0, 3.0, 4.0, 6.0, 8.0, 10.0, 15.0, 20.0, 30.0, 50.0, 75.0, 100.0]\n",
    "for number in substrate_concs:\n",
    "    if number < Km/4:\n",
    "        V_linear = Vmax * number / (Km + number)\n",
    "        linear_MM.append(V_linear)\n",
    "\n",
    "print(linear_MM)"
   ]
  },
  {
   "cell_type": "markdown",
   "id": "24d974b8",
   "metadata": {},
   "source": [
    "Other logic operations include\n",
    "- equal to `==`\n",
    "- not equal to `!=`\n",
    "- greater than `>`\n",
    "- less than `<`\n",
    "- greater than or equal to `>=`\n",
    "- less than or equal to `<=`\n",
    "\n",
    "You can also use `and`, `or`, and `not` to check more than one condition.\n",
    "\n",
    "```\n",
    "substrate_concs = [1.0, 2.0, 3.0, 4.0, 6.0, 8.0, 10.0, 15.0, 20.0, 30.0, 50.0, 75.0, 100.0]\n",
    "v_at_or_below_km = []\n",
    "for number in substrate_concs:\n",
    "    if number <= Km or number == Km:\n",
    "        velocity = Vmax * number / (Km + number)\n",
    "        v_at_or_below_km.append(velocity)\n",
    "\n",
    "print(v_at_or_below_km)\n",
    "```"
   ]
  },
  {
   "cell_type": "code",
   "execution_count": null,
   "id": "aaafe66b",
   "metadata": {},
   "outputs": [],
   "source": []
  },
  {
   "cell_type": "markdown",
   "id": "e9abd7c5",
   "metadata": {},
   "source": [
    "If you are comparing strings, not numbers, you use different logic operators like `is`, `in`, or `is not`.  \n",
    "\n",
    "### Exercise\n",
    "\n",
    "The following list contains some floating point numbers and some \n",
    "numbers which have been saved as strings. Copy this list exactly into your code.\n",
    "\n",
    "```python\n",
    "conc_list = ['1.0', 2.0, 5.0, '14.0', 20.0]\n",
    "```\n",
    "\n",
    "Set up a `for` loop to go over each element of `conc_list`.  If the element is a string (`str`), recast it as a float.  Save *all* of the numbers to a new list called `number_list`.  Pay close attention to your indentation! One solution is at the bottom of this notebook."
   ]
  },
  {
   "cell_type": "markdown",
   "id": "6d73fed9",
   "metadata": {},
   "source": [
    "## Nonlinear Regression and Curve Fitting\n",
    "\n",
    "If there is time, we will take a brief look at nonlinear regression with our Michaelis Menten data and curve fitting.\n",
    "\n",
    "We already have two lists that are our x-values (subtrate_concs = [1.0, 2.0, 3.0, 4.0, 6.0, 8.0, 10.0, 15.0, 20.0, 30.0, 50.0, 75.0, 100.0]) and our y-values (velocities = [6.25, 11.764705882352942, 16.666666666666668, 21.05263157894737, 28.571428571428573, 34.78260869565217, 40.0, 50.0, 57.142857142857146, 66.66666666666667, 76.92307692307692, 83.33333333333333, 86.95652173913044]).\n",
    "\n",
    "To do curve fitting, we will need to import another library. This is actually a fairly advanced process, but it is so nice, I wanted to include it here."
   ]
  },
  {
   "cell_type": "code",
   "execution_count": 55,
   "id": "d9d325d4",
   "metadata": {},
   "outputs": [
    {
     "name": "stdout",
     "output_type": "stream",
     "text": [
      "[6.25, 11.764705882352942, 16.666666666666668, 21.05263157894737, 28.571428571428573, 34.78260869565217, 40.0, 50.0, 57.142857142857146, 66.66666666666667, 76.92307692307692, 83.33333333333333, 86.95652173913044]\n"
     ]
    }
   ],
   "source": [
    "# Starting from our earlier code to generate data\n",
    "# velocities = []\n",
    "# for number in substrate_concs:\n",
    "#     V = Vmax * number / (Km + number)\n",
    "#     velocities.append(V)\n",
    "\n",
    "# print(velocities)"
   ]
  },
  {
   "cell_type": "markdown",
   "id": "cd0d328c",
   "metadata": {},
   "source": [
    "### Nonlinear Regression\n",
    "\n",
    "We are now going to plot the data we have generated and then try some curve fitting."
   ]
  },
  {
   "cell_type": "code",
   "execution_count": 23,
   "id": "26c13c99",
   "metadata": {
    "code_folding": []
   },
   "outputs": [],
   "source": [
    "# We want the data to include some errors, so let's create a new list \n",
    "# called 'vel_with_errors', where we round some numbers up or down.\n",
    "\n",
    "# vel_with_errors = [6.0, 12, 16, 20, 30, 35, 42, 52, 57, 68, 75, 84, 86]"
   ]
  },
  {
   "cell_type": "code",
   "execution_count": 56,
   "id": "77e50d69",
   "metadata": {},
   "outputs": [],
   "source": [
    "# We will need to import some Python libraries to do this work.\n",
    "\n",
    "import os\n",
    "import numpy as np\n",
    "import matplotlib.pyplot as plt\n",
    "from scipy.optimize import curve_fit"
   ]
  },
  {
   "cell_type": "code",
   "execution_count": 57,
   "id": "070c3993",
   "metadata": {},
   "outputs": [
    {
     "data": {
      "text/plain": [
       "[<matplotlib.lines.Line2D at 0x7f8b0e8ad4c0>]"
      ]
     },
     "execution_count": 57,
     "metadata": {},
     "output_type": "execute_result"
    },
    {
     "data": {
      "image/png": "[encoded data removed]",
      "text/plain": [
       "<Figure size 432x288 with 1 Axes>"
      ]
     },
     "metadata": {
      "needs_background": "light"
     },
     "output_type": "display_data"
    }
   ],
   "source": [
    "# Let's plot the data\n",
    "\n",
    "# Inspect your data to make sure it looks like a Michaelis-Menten plot\n",
    "# plt.plot(substrate_concs, vel_with_errors, 'o', label='data')"
   ]
  },
  {
   "cell_type": "markdown",
   "id": "480c9f87",
   "metadata": {},
   "source": [
    "In light of time constraints, the code for curve fitting will be provided in an executable cell, where you can remove the # signs to execute the code one line at a time. This the sequence of events we will follow.\n",
    "\n",
    "1. Define a function for the Michaelis-Menten equation\n",
    "1. Use curve_fit, the Michaelis-Menten function and our data to generate the Km and Vmax parameters.\n",
    "1. Plot the data with a fitted curve.\n",
    "1. Smooth the fitted curve.\n"
   ]
  },
  {
   "cell_type": "code",
   "execution_count": 58,
   "id": "c3dcd46a",
   "metadata": {},
   "outputs": [],
   "source": [
    "# Define the Michaelis-Menten function\n",
    "\n",
    "# def MM(SubConc, Vmax, Km):\n",
    "#     Vi = Vmax * SubConc/(Km + SubConc)\n",
    "#     return Vi\n",
    "\n",
    "# Test the function: Does it work?\n",
    "\n",
    "# vel = []\n",
    "# for number in substrate_concs:\n",
    "#     num = MM(number, 100, 1)\n",
    "#     vel.append(num)\n",
    "    \n",
    "# print(vel)\n",
    "    "
   ]
  },
  {
   "cell_type": "markdown",
   "id": "c639d058",
   "metadata": {},
   "source": [
    "## Using curve_fit\n",
    "The syntax for the curve_fit function from scipy.optimize is\n",
    "```python\n",
    "popt, pcov = curve_fit(function, xdata, ydata)\n",
    "```\n",
    "| Term | Signficance |\n",
    "| :----: | :---- |\n",
    "| popt | optimized parameters |\n",
    "| pcov | a 2D matrix of the covariance for the curve fit |\n",
    "| curve_fit | the function from scipy.optimize |\n",
    "| function | the function you choose that curve_fit will use for fitting the data |\n",
    "| xdata | a data array for the independent variable |\n",
    "| ydata | a data array for the dependent variable |\n",
    "\n",
    "You can learn much more about `curve_fit` in the online documentation for [scipy.optimize.curve_fit](https://docs.scipy.org/doc/scipy/reference/generated/scipy.optimize.curve_fit.html). \n",
    "\n",
    "Let's review the function, `MM`, that we defined above, to clearly distinguish the data, variables and parameters associated with `curve_fit` from those associated with `MM`.\n",
    "\n",
    "```python\n",
    "def MM(SubConc, Vmax, Km):\n",
    "    Vi = (Vmax * SubConc)/(Km + SubConc)\n",
    "    return Vi\n",
    "```\n",
    "\n",
    "You need to pass three pieces of data to `MM` to predict the initial velocity for an enzyme-catalyzed reaction: the substrate concentration, and values for V$_{max}$ and K$_m$.\n",
    "\n",
    "scipy.optimize.curve_fit() can then fit the data to the `MM` function you have defined. In an earlier module, there was a discussion of different ways to linearize data so that linear regression could be used, for example, taking logs of the molecular weights of protein standards to plot versus relative migration for an SDS-PAGE gel. With curve_fit, you can do a least squares regression fit for data that demonstrate nonlinear relationships."
   ]
  },
  {
   "cell_type": "code",
   "execution_count": 59,
   "id": "979f4598",
   "metadata": {},
   "outputs": [],
   "source": [
    "# Use the function curve_fit to fit your data.\n",
    "# popt, pcov = curve_fit(MM, substrate_concs, vel_with_errors)"
   ]
  },
  {
   "cell_type": "markdown",
   "id": "d0ff6f69",
   "metadata": {},
   "source": [
    "## Extracting the output from curve_fit\n",
    "There are two outputs from curve_fit - popt and pcov. These are typical names that help to point to the contents of the variable, but you can choose any variable name you like.\n",
    "1. popt = a list of the optimized parameters. In our case, the two parameters are $V_{max}$ and $K_m$. Remember that python starts counting at 0, so popt[0] = $V_{max}$ and popt[1] = $K_m$. \n",
    "1. pcov = an n-dimensional array of the covariance for the parameters, where n is the number of parameters. In our case, n = 2. \n",
    "\n",
    "So we can extract the fitted values for $V_{max}$ and $K_m$ just by setting variables equal to them. The covariance matrix can be used to extract standard errors or standard deviations for each of the parameters. In our case, we will calculate one standard deviation for each parameter. Note that we use two numpy functions (sqrt and diag) to calculate the standard deviation values from the 2D matrix for pcov."
   ]
  },
  {
   "cell_type": "code",
   "execution_count": 60,
   "id": "a1ee8e1a",
   "metadata": {},
   "outputs": [],
   "source": [
    "# Extract the Michaelis-Menten parameters for our data\n",
    "\n",
    "# Vmax = popt[0]\n",
    "# Km = popt[1]\n",
    "# print(Vmax, Km)\n"
   ]
  },
  {
   "cell_type": "markdown",
   "id": "5f2c2e3c",
   "metadata": {},
   "source": [
    "## Plotting the data\n",
    "At this point, you want to compare your plotted data with the curve based on the parameters from curve_fit. We'll do this in two stages. First, we'll use the `MM` function to calculate y values using your fit model to see how well your model fits the data. \n",
    "\n",
    "We will use matplotlib.pyplot (please note the import statement earlier in this notebook) to create and annotate this plot. Our first plot will contain two sets of data: \n",
    "\n",
    "1. the actual data for initial velocity vs. substrate concentration\n",
    "2. the fitted data using the parameters generated by curve_fit"
   ]
  },
  {
   "cell_type": "code",
   "execution_count": 62,
   "id": "0106cf6c",
   "metadata": {},
   "outputs": [],
   "source": [
    "fitted_values = []\n",
    "# for number in substrate_concs:\n",
    "#     fit_y = MM(number, Vmax, Km) # calculates y values based on the curve_fit parameters\n",
    "#     fitted_values.append(fit_y)\n",
    "\n",
    "# using your fit model to see how well your model fits the data.\n",
    "\n",
    "# Graph your original data and the fit equation\n",
    "\n",
    "# plt.plot(substrate_concs, vel_with_errors, 'o', label='data') # the experimental data\n",
    "# plt.plot(substrate_concs, fitted_values, '-', label='fit') # the fit equation"
   ]
  },
  {
   "cell_type": "markdown",
   "id": "b8e87402",
   "metadata": {},
   "source": [
    "## Smoothing the plot\n",
    "You probably noticed that the curve appears a bit disjointed, because it provides values only at the selected concentrations of the substrate. A fit curve based on 1000 x-values will be much smoother. To do this, we first use the numpy linspace function to create a new list of 1000 x-values ranging from the minimum xdata value (using the numpy min function) to the maximum xdata value (using the numpy max function). Then we generate a fit curve using the MM function. We then add the experimental data and the smoothed fit data to the plot. Note that the experimental data is plotted using `'bo'`. This tells matplotlib.pyplot to use blue (`b`) circles (`o`)."
   ]
  },
  {
   "cell_type": "code",
   "execution_count": 61,
   "id": "9ab93fb9",
   "metadata": {},
   "outputs": [],
   "source": [
    "# To generate a smoother fitted curve\n",
    "# smooth_x = np.linspace(np.min(substrate_concs), np.max(substrate_concs), 1000) # x value range with 1000 points\n",
    "# smooth_y = MM(smooth_x, Vmax, Km) # y values for the 1000 points in smooth_x\n",
    "\n",
    "# plt.plot(substrate_concs, vel_with_errors, 'o', label='data') # the experimental data\n",
    "# plt.plot(smooth_x, smooth_y, 'r', label = 'fit') # plot of the fit data\n",
    "# plt.legend() # legend added"
   ]
  },
  {
   "cell_type": "markdown",
   "id": "10abb958",
   "metadata": {},
   "source": [
    "## A note about jupyter notebooks\n",
    "If you use the jupyter notebook for your python interpreter, the notebook only executes the current code block.  This can have several unintended consequences. If you change a value and then go back and run an earlier code block, it will use the new value, not the first defined value, which may give you incorrect analysis.  Similarly, if you open your jupyter notebook later, and try to run a code block in the middle, it may tell you that your variables are undefined, even though you can clearly see them defined in earlier code blocks.  But if you didn't re-run those code blocks, then python doesn't know they exist.  "
   ]
  },
  {
   "cell_type": "markdown",
   "id": "ce8b5cd3",
   "metadata": {},
   "source": [
    "### One solution to string and number exercise\n",
    "\n",
    "```\n",
    "conc_list = ['1.0', 2.0, 5.0, '14.0', 20.0]\n",
    "number_list = []\n",
    "for item in conc_list:\n",
    "    if type(item) is str:\n",
    "        item = float(item)\n",
    "    number_list.append(item)\n",
    "\n",
    "print(number_list)\n",
    "```"
   ]
  }
 ],
 "metadata": {
  "kernelspec": {
   "display_name": "Python 3 (ipykernel)",
   "language": "python",
   "name": "python3"
  },
  "language_info": {
   "codemirror_mode": {
    "name": "ipython",
    "version": 3
   },
   "file_extension": ".py",
   "mimetype": "text/x-python",
   "name": "python",
   "nbconvert_exporter": "python",
   "pygments_lexer": "ipython3",
   "version": "3.9.7"
  },
  "vscode": {
   "interpreter": {
    "hash": "916dbcbb3f70747c44a77c7bcd40155683ae19c65e1c03b4aa3499c5328201f1"
   }
  }
 },
 "nbformat": 4,
 "nbformat_minor": 5
}
