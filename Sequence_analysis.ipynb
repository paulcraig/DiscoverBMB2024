{
 "cells": [
  {
   "cell_type": "markdown",
   "id": "ba898bdc",
   "metadata": {},
   "source": [
    "# Easing into BMB coding in your research or classroom\n",
    "## A Discover BMB 2024 Workshop by Paul Craig and Wally Novak\n",
    "\n",
    "\n",
    "![Paul Craig and Wally Novak](images/paul_wally.png)\n",
    "***\n",
    "\n",
    "\n",
    "In this portion workshop we will work with protein sequences. You will learn to:\n",
    "\n",
    "1. Search for a sequence directly\n",
    "2. Perform a BLAST search using your own sequence and control the number of hits returned\n",
    "3. Perform some simple analyses on your returned data\n",
    "4. Install and use additional sequence software (if time!) \n",
    "5. Reduce sequence redundancy and keep sequence diversity (if time!) \n",
    "6. Produce a sequence alignment and look for conserved residues (if time!) \n"
   ]
  },
  {
   "cell_type": "markdown",
   "id": "bbce064c",
   "metadata": {},
   "source": [
    "***\n",
    "## 1. Importing a known sequence directly from Entrez\n",
    "\n",
    "Entrez is a molecular biology database system that provides integrated access to nucleotide and protein sequence data, gene-centered and genomic mapping information, 3D structure data, PubMed MEDLINE, and more. The system is produced by the National Center for Biotechnology Information (NCBI) and is available via the Internet at https://www.ncbi.nlm.nih.gov/Web/Search/entrezfs.html"
   ]
  },
  {
   "cell_type": "markdown",
   "id": "e24987cc",
   "metadata": {},
   "source": [
    "### Retrieving sequence IDs using a search term.\n",
    "\n",
    "Many of us may have used the Entrez website to search for a sequence. This will do much the same in the Juptyer Notebook environment. There are a couple things that are important to note. First, we will set two text variables. To set a text variable, we will use quotes around the text we are entering.\n",
    "\n",
    "<span style='color:Blue'>*Setting a text variable example: x = \"Jupyter is fun.\"*</span>\n",
    "\n",
    "This simply sets the variable, x to Jupter is fun. Generally, it is good coding practice to use variable names that are informative.\n",
    "\n",
    "#### In the code below, please edit the variable Entrez.email and the variable search_term. \n",
    "\n",
    "<span style='color:green'>**Please enter your own email address in quotes for email**</span>. Note that for search term we will use the + symbol to indicate 'and'. Please assign the variable search_term to <span style='color:green'>**\"creatine+kinase+muscle+[homo sapiens (humans)]\"**</span>\n",
    "\n",
    "The code cell below is heavily commented so it is easier to see what each line is doing.\n",
    "\n",
    "#### Run the cell.\n",
    "\n",
    "<img src=\"images/run_button.png\" width=\"100\" align=\"left\" />Then run the cell. **To run the cell, make sure it is selected (a blue bar appears to at the left) the either click the  Run button or, using the keyboard, hold \"Shift+Return.\"** I won't explicitly tell you to run cells anymore, so read carefully and run them as they appear. Hoever, you may have to do some editing of the code cell first!"
   ]
  },
  {
   "cell_type": "code",
   "execution_count": null,
   "id": "7a807d61",
   "metadata": {},
   "outputs": [],
   "source": [
    "# this imports the necessary tools to search Entrez\n",
    "from Bio import Entrez   \n",
    "\n",
    "# always tell the NCBI who you are!\n",
    "Entrez.email = \"your_email@school.edu\" \n",
    "\n",
    "# this sets a variable for us to use as the search\n",
    "search_term = \"terms to search\"\n",
    "\n",
    "# this searches Entrez and places the results in the variable ID_query\n",
    "# other database (db) terms could include nucleotide, pubmed, or gene\n",
    "# for other databases see https://www.ncbi.nlm.nih.gov/books/NBK25497/\n",
    "ID_query = Entrez.esearch(db='protein', term=search_term)\n",
    "\n",
    "# Reading the query\n",
    "ID_records = Entrez.read(ID_query)\n",
    "\n",
    "# This closes the Entrez query    \n",
    "ID_query.close()"
   ]
  },
  {
   "cell_type": "markdown",
   "id": "1f0216da",
   "metadata": {},
   "source": [
    "Note that we don't see any output for the above commands. We need to see what is stored in ID_query. The for loop below iterates through each record in ID_records and stores it in a variable called seq_id. The next line prints what is in seq_id.\n",
    "\n",
    "In the coding cell below, type or paste:\n",
    "\n",
    "```python\n",
    "# this for loop iterates through the IDs returned\n",
    "for seq_id in ID_records['IdList']:\n",
    "    print(seq_id)\n",
    "```\n",
    "#### Then run the cell.\n"
   ]
  },
  {
   "cell_type": "code",
   "execution_count": null,
   "id": "d7acb0eb",
   "metadata": {},
   "outputs": [],
   "source": []
  },
  {
   "cell_type": "markdown",
   "id": "33f9a9a3",
   "metadata": {},
   "source": [
    "***\n",
    "### Retrieving information about the sequence IDs. \n",
    "Now that we have some sequence IDs related top our search, let's download the sequences themselves so we can choose one for analysis.\n",
    "\n",
    "For more information on the fasta format for protein sequences, check out this source: https://www.ncbi.nlm.nih.gov/WebSub/html/help/protein.html\n",
    "\n",
    "The first bit of code: **```SEQ_LIST = []```** creates an empty list. \n",
    "\n",
    "Next is anther for loop that iterates through the records much like we did in the above cell.\n",
    "\n",
    "#### Then run the cell."
   ]
  },
  {
   "cell_type": "code",
   "execution_count": null,
   "id": "85883577",
   "metadata": {},
   "outputs": [],
   "source": [
    "SEQ_LIST = []\n",
    "\n",
    "# This for loop takes each sequence ID and returns its sequence in fasta format\n",
    "for seq_id in ID_records['IdList']:\n",
    "    print(\"Retrieving fasta sequence for ID: %s\" % seq_id)\n",
    "    seq_query = Entrez.efetch(db ='sequences', id=seq_id, rettype='fasta', retmode='text')\n",
    "    SEQ_LIST.append(seq_query.read())\n",
    "    \n",
    "# This closes the sequence query\n",
    "seq_query.close()"
   ]
  },
  {
   "cell_type": "markdown",
   "id": "2c9f95d1",
   "metadata": {},
   "source": [
    "Since we have returned only a few sequences, we can examine these by eye. But we need to print out the sequences. Let's see if you can write a for loop that iterates through SEQ_LIST and prints the sequence. You can enter the code in the code box below and **run it**, but if you get stuck see the hint just underneath this box."
   ]
  },
  {
   "cell_type": "markdown",
   "id": "9a431fbe",
   "metadata": {},
   "source": [
    "<details>\n",
    "    <summary><b>Click here to see some sample code to iterate through our sequence list.</b></summary>\n",
    "\n",
    "Here is the simplest code you could use:\n",
    "```python\n",
    "for seq in SEQ_LIST:\n",
    "    print(seq)\n",
    "```\n",
    "\n",
    "This code adds a little je ne sais quoi. It creates a counter that shows us what number each sequence is in the list. Note that python coding starts at zero!\n",
    "    \n",
    "```python\n",
    "i = 0 # this is a simple variable to count up in the list\n",
    "for seq in SEQ_LIST:\n",
    "    print(\"This is the sequence stored in SEQ_LIST[%i]\" % i)\n",
    "    print(seq)\n",
    "    i = i + 1\n",
    "```\n",
    "    \n",
    "</details>"
   ]
  },
  {
   "cell_type": "code",
   "execution_count": null,
   "id": "7a15a876",
   "metadata": {},
   "outputs": [],
   "source": []
  },
  {
   "cell_type": "markdown",
   "id": "72aabd4f",
   "metadata": {},
   "source": [
    "Select a sequence in the output above to move forward with from the list. Python lists start couting at zero. If you used the fancy code, the output above includes which item in the list corresponds to each sequence. If not, you can count through the sequences, starting with zero! Edit the code below to set the variable seq to the SEQ_LIST selection of your choice. For example, the first sequence would be ```SEQ_LIST[0]```. (Really only one of the above looks like a poorer choice than the others. :)"
   ]
  },
  {
   "cell_type": "code",
   "execution_count": null,
   "id": "4974fa1b",
   "metadata": {},
   "outputs": [],
   "source": [
    "seq = SEQ_LIST[0]\n",
    "\n",
    "print(seq)"
   ]
  },
  {
   "cell_type": "markdown",
   "id": "4a73dc87",
   "metadata": {},
   "source": [
    "***\n",
    "## 2. Performing a BLAST search\n",
    "\n",
    "Now that we have a protein sequence, we can ask, What proteins are similar to the one I have selected? We can do this using the Basic Local Alignment Tool (BLAST) from the NCBI. For more information on BLAST check out this page: https://blast.ncbi.nlm.nih.gov/Blast.cgi\n",
    "\n"
   ]
  },
  {
   "cell_type": "markdown",
   "id": "9ca75c5e",
   "metadata": {},
   "source": [
    "To perform a BLAST search we will first need to import the right tools. In the code cell below copy or type:\n",
    "\n",
    "```python\n",
    "from Bio.Blast import NCBIWWW\n",
    "from Bio.Blast import NCBIXML\n",
    "```\n",
    "\n",
    "#### Then run the cell."
   ]
  },
  {
   "cell_type": "code",
   "execution_count": null,
   "id": "fdfec9a3",
   "metadata": {},
   "outputs": [],
   "source": []
  },
  {
   "cell_type": "markdown",
   "id": "58bcb96c",
   "metadata": {
    "raw_mimetype": "text/markdown"
   },
   "source": [
    "### Performing the BLAST query\n",
    "\n",
    "The next coding cell defines the variable query using blastp (to look for proteins), against the refseq-protein database, using our sequence (defined in seq). Further for the purpose of this demonstration we will have BLAST return 500 sequences. In practice, this number might be something larger, like 10000; however, this will take a little longer to return results. Finally, we have asked the BLAST query to return 0 alignments and to use the XML format."
   ]
  },
  {
   "cell_type": "code",
   "execution_count": null,
   "id": "c5aa7490",
   "metadata": {},
   "outputs": [],
   "source": [
    "# defines the query as a blastp search against the nr database. \n",
    "#Other database options include: refseq_protein, pdb, and swissprot\n",
    "query = NCBIWWW.qblast('blastp','refseq_protein', seq, hitlist_size=500, alignments=0, format_type = 'XML')\n",
    "\n",
    "# Open the file you will 'write' (w) into\n",
    "results = open('data/CK_blastp.xml', 'w')\n",
    "print(\"Results are stored in the file data/CK_blastp.xml\")\n",
    "\n",
    "# Write the file with the query results\n",
    "results.write(query.read())\n",
    "\n",
    "# Close the file\n",
    "results.close()\n",
    "\n",
    "# Close the query\n",
    "query.close()"
   ]
  },
  {
   "cell_type": "markdown",
   "id": "25921cd0",
   "metadata": {},
   "source": [
    "We see that we have the results of the blast search stored in the qblast_blastp.xml. XML (extensible markup language) makes the file simple to process, but difficult to read.\n",
    "\n",
    "### Parsing the BLAST output and writing a fasta file\n",
    "\n",
    "We will use the NCBIXML.parse command to process the XML file. We will store the results in a traditional fasta sequence file that we saw above.\n",
    "\n",
    "Let's walk through the code below."
   ]
  },
  {
   "cell_type": "code",
   "execution_count": null,
   "id": "ddc9e781",
   "metadata": {},
   "outputs": [],
   "source": [
    "#This sets our filename to store our fasta sequence data in, and opens the file for writing.\n",
    "outfile=\"data/ck_seqs.fasta\"\n",
    "f = open(outfile, 'w')\n",
    "\n",
    "# Sets the variable results_handle as the opened xml file\n",
    "result_handle = open('data/CK_blastp.xml')\n",
    "\n",
    "#This parses the xml file into blast_records, which is iterable\n",
    "blast_records = NCBIXML.parse(result_handle)\n",
    "\n",
    "#This for loop iterates through all the records in blast_records.\n",
    "#It then looks at the alignments in the record, which stores the HSP (high scoring pair)\n",
    "for record in blast_records:\n",
    "    for alignment in record.alignments:\n",
    "        for hsp in alignment.hsps:\n",
    "            #now we get the ID for the hit (this splits the line on '>' only taking the first [0th] item)\n",
    "            hit_id = alignment.title.split('>')[0]\n",
    "            #write out the hit ID to the file, followed by a carriage return\n",
    "            f.write(\">\"+hit_id+'\\n')\n",
    "            #write out the subject of the search, which is the hit, with no gaps, followed by two carriage returns\n",
    "            f.write(hsp.sbjct.replace('-', '')+'\\n\\n')\n",
    "\n",
    "#This closes the results handle and the output file to which we were writing.\n",
    "result_handle.close()\n",
    "f.close()"
   ]
  },
  {
   "cell_type": "markdown",
   "id": "136eadb7",
   "metadata": {},
   "source": [
    "At this stage you should know how to retrieve a sequence from Entrez and perform a BLAST search while controlling the number of hits returned. Now let's look at some \"simple\" ways of analyzing the sequence data."
   ]
  },
  {
   "cell_type": "markdown",
   "id": "6e51e2d9",
   "metadata": {},
   "source": [
    "***\n",
    "## 3. Simple analyses of BLAST data using biopython and matplotlib\n",
    "\n",
    "Biopython (https://biopython.org/) is a set of tools for manipulating sequence data in python. In fact, many of the tools we used above are part of biopython. Paul Craig introduced you to matplotlib in the first half of this workshop. We will extract some information about the lengths of the sequences in our blast results and create some simple plots to visualize the data.\n",
    "\n",
    "### Parse the fasta file into a list of records\n",
    "\n",
    "First, we will import the SeqIO (sequence input and output) tool from biopython and parse the fasta file into a list called records."
   ]
  },
  {
   "cell_type": "code",
   "execution_count": null,
   "id": "2a13d4bc",
   "metadata": {
    "scrolled": true
   },
   "outputs": [],
   "source": [
    "from Bio import SeqIO # imports the SeqIO function from Biopython\n",
    "\n",
    "records = list(SeqIO.parse(\"data/ck_seqs.fasta\", \"fasta\"))     # reads the fasta file into a list of records \n",
    "print(\"Finished storing the FASTA file in the list called \\\"records\\\".\")"
   ]
  },
  {
   "cell_type": "markdown",
   "id": "c2d46d5a",
   "metadata": {},
   "source": [
    "Now that we have our sequences stored in a list, we can ask how many records there are in the entire list.\n",
    "\n",
    "In the code cell below, type, then run:\n",
    "```python\n",
    "print(\"There are %i sequences in your file.\\n\" % len(records))  \n",
    "```"
   ]
  },
  {
   "cell_type": "code",
   "execution_count": null,
   "id": "ff174695",
   "metadata": {},
   "outputs": [],
   "source": []
  },
  {
   "cell_type": "markdown",
   "id": "eb40c153",
   "metadata": {},
   "source": [
    "Let's look at what is stored for each record.\n",
    "\n",
    "In the code cell below, type, then run:\n",
    "\n",
    "```python\n",
    "print(records[0])\n",
    "```"
   ]
  },
  {
   "cell_type": "code",
   "execution_count": null,
   "id": "a83418e5",
   "metadata": {},
   "outputs": [],
   "source": []
  },
  {
   "cell_type": "markdown",
   "id": "646dfa35",
   "metadata": {},
   "source": [
    "This gives us an abbreviated view of the information present in this list.\n",
    "\n",
    "We can also print sequence or ID information about each record. Let's look at the last item in the list, which we can access with the list position of -1.\n",
    "\n",
    "In the code cell below, type, then run:\n",
    "\n",
    "```python\n",
    "print(records[-1].description) \n",
    "print(records[-1].seq)\n",
    "```\n"
   ]
  },
  {
   "cell_type": "code",
   "execution_count": null,
   "id": "ae150f67",
   "metadata": {},
   "outputs": [],
   "source": []
  },
  {
   "cell_type": "markdown",
   "id": "1fa37953",
   "metadata": {},
   "source": [
    "Okay, time to incorporate our knowledge of for loops to return the first 10 record descriptions.\n",
    "\n",
    "```python\n",
    "print(\"The first 10 sequence record ids are:\\n\")\n",
    "#This loop counts from 0 to 9\n",
    "for i in range(10):                                        \n",
    "    print(records[i].description)                                        \n",
    "```\n"
   ]
  },
  {
   "cell_type": "code",
   "execution_count": null,
   "id": "9601e219",
   "metadata": {},
   "outputs": [],
   "source": []
  },
  {
   "cell_type": "markdown",
   "id": "af937a58",
   "metadata": {},
   "source": [
    "### Plotting information about sequences using matplotlib\n",
    "\n",
    "It is often easier to view some details about datasets by plotting them. We can use matplotlib to plot information about the lengths of the sequences returned in our blast search. \n",
    "\n",
    "Let's walk through the code below that harvests the sequence lengths from our fasta file."
   ]
  },
  {
   "cell_type": "code",
   "execution_count": null,
   "id": "f30d98e6",
   "metadata": {},
   "outputs": [],
   "source": [
    "#Create an empty list to hold the sequence lengths for each record\n",
    "lengths = []\n",
    "\n",
    "#Loop through the records\n",
    "for record in records:\n",
    "    #Use the len command to determine the length of the record sequence and add it to the list called lengths\n",
    "    lengths.append(len(record.seq))\n",
    "\n",
    "#Sort the lengths of the sequences\n",
    "lengths.sort()"
   ]
  },
  {
   "cell_type": "markdown",
   "id": "a946fd9b",
   "metadata": {},
   "source": [
    "This code stored the lengths of the sequences in a sorted list. Let's look at a few using a for loop!\n",
    "\n",
    "Try to write your own python code to iterate through the first 10 items in list **lengths** and print them. You can open up the code below if you want some help.\n"
   ]
  },
  {
   "cell_type": "markdown",
   "id": "2aa46481",
   "metadata": {},
   "source": [
    "<details>\n",
    "    <summary><b>Click here to see some sample code to iterate through our length list.</b></summary>\n",
    "\n",
    "Here is some simple code you could use:\n",
    "```python\n",
    "for i in range(10):\n",
    "    print(lengths[i])\n",
    "```\n",
    "    \n",
    "</details>"
   ]
  },
  {
   "cell_type": "code",
   "execution_count": null,
   "id": "1ae381a2",
   "metadata": {},
   "outputs": [],
   "source": []
  },
  {
   "cell_type": "markdown",
   "id": "5478c570",
   "metadata": {},
   "source": [
    "Next let's plot the data using matplotlib to visualize the lengths returned in our blast search. Let's copy and paste this code into the code cell below and run it.\n",
    "\n",
    "```python\n",
    "#First import matplotlib\n",
    "import matplotlib.pyplot as plt\n",
    "\n",
    "#Here we make the plot.\n",
    "#the first line says we will make a histogram using lengths. It will bin the sequences into 100 bins.\n",
    "plt.hist(lengths, bins = 100)\n",
    "#The next two lines set the axes labels\n",
    "plt.xlabel('seq length')\n",
    "plt.ylabel('count')\n",
    "#Then draw the plot\n",
    "plt.show()\n",
    "```"
   ]
  },
  {
   "cell_type": "code",
   "execution_count": null,
   "id": "dadac4a6",
   "metadata": {},
   "outputs": [],
   "source": []
  },
  {
   "cell_type": "markdown",
   "id": "06c971ac",
   "metadata": {},
   "source": [
    "We can see from the data that we have a large number of sequences that are 375-385 amino acids in length. Let's try to create our own plot using the above cell as a guide. **This time let's create a plot that only looks at the 375-385 sequence length region.**\n",
    "\n",
    "We can use the same code above, but let's add one command before the plt.show() line: **```plt.xlim(375,385)```**"
   ]
  },
  {
   "cell_type": "markdown",
   "id": "9f700b79",
   "metadata": {},
   "source": [
    "<details>\n",
    "    <summary><b>Click here to see the code to create a new plot.</b></summary>\n",
    "\n",
    "Here is some simple code you could use:\n",
    "```python\n",
    "plt.hist(lengths, bins = 100)\n",
    "#The next two lines set the axes labels\n",
    "plt.xlabel('seq length')\n",
    "plt.ylabel('count')\n",
    "#The next line sets the limits of the x-axis!\n",
    "plt.xlim(375,385)\n",
    "plt.show()\n",
    "```\n",
    "    \n",
    "</details>"
   ]
  },
  {
   "cell_type": "code",
   "execution_count": null,
   "id": "c183f023",
   "metadata": {},
   "outputs": [],
   "source": []
  },
  {
   "cell_type": "markdown",
   "id": "6d69317c",
   "metadata": {},
   "source": [
    "Most of the sequences fall between 375 and 385 amino acids in length. Let's remove shorter and longer sequences from our analysis.\n",
    "\n",
    "Let's walk through the code below and then run it."
   ]
  },
  {
   "cell_type": "code",
   "execution_count": null,
   "id": "bd5200a5",
   "metadata": {},
   "outputs": [],
   "source": [
    "#We set the variable trimmed_file to a new output file in the data folder.\n",
    "trimmed_file = \"data/ck_blast_trim.fasta\"\n",
    "\n",
    "#We set the variables for short and long lengths here.\n",
    "small_len = 375\n",
    "large_len = 385\n",
    "\n",
    "#Open the output file for writing\n",
    "trimmed = open(trimmed_file, 'w')\n",
    "\n",
    "#A simple for loop that checks the length of each sequence, \n",
    "#only writing the seq to the new file if it is in the range indicated\n",
    "for record in records:\n",
    "    if len(record.seq) > small_len and len(record.seq) < large_len: \n",
    "        SeqIO.write(record, trimmed, 'fasta')\n",
    "\n",
    "#The next lines parse the newly trimmed file and tell us how many sequences we now have.\n",
    "records2 = list(SeqIO.parse(\"data/ck_blast_trim.fasta\", \"fasta\"))\n",
    "print(\"We now have %i sequences in our fasta file.\" % len(records2))"
   ]
  },
  {
   "cell_type": "markdown",
   "id": "11c021a6",
   "metadata": {},
   "source": [
    "## 4. Installing software\n",
    "\n",
    "The Jupyter Notebook is outstanding for running your own python code. However, many tools were meant to run in a different environment (unix!). We will use two of these tools - Clustal Omega (for sequence alignments) and CD-HIT for reducing redundancy in sequence datasets.\n",
    "\n",
    "To run a shell command outside of the Jupyter Notebook you simply type a '!' (also called \"bang\") before the command. Independently installing software in a unix shell can be quite tricky. There are often lots of other related pieces of software than must be installed. These other software items are called dependencies. To alleviate this issue, we will use the software package Mamba, which will install the sofware we want and any dependencies needed. First let's install clustalomega.\n",
    "\n",
    "In the coding cell below, type or paste: \n",
    "\n",
    "```python\n",
    "!mamba install --yes bioconda::clustalo\n",
    "```\n",
    "\n",
    "This command tells mamba to install clustalo from the package manager, conda. The '--yes' flag tells the installer to answer yes and continue for any questions that pop up during the installation process. You can find out more about available bioconda packages here: https://bioconda.github.io/index.html\n",
    "\n",
    "Run the cell.\n"
   ]
  },
  {
   "cell_type": "code",
   "execution_count": null,
   "id": "7fcd3fbc",
   "metadata": {},
   "outputs": [],
   "source": []
  },
  {
   "cell_type": "markdown",
   "id": "3732ef90",
   "metadata": {},
   "source": [
    "#### N.B. Please make sure to wait for the code cell to finish running before moving on the next cell. \n",
    "You will know it is still running if you see an asterisk like this: <span style='color:blue'>In [*]:</span>\n",
    "If a cell has not been run it is empty, e.g. <span style='color:blue'>In [ ]:</span>, and if it has completed you will see a number in it, e.g. <span style='color:blue'>In [1]:</span>\n",
    "\n",
    "Next install cd-hit. You can find out more about cd-hit here: https://sites.google.com/view/cd-hit\n",
    "\n",
    "In the coding cell below, type or paste: \n",
    "\n",
    "```python\n",
    "!mamba install --yes bioconda::cd-hit\n",
    "```\n",
    "\n",
    "Run the cell.\n"
   ]
  },
  {
   "cell_type": "code",
   "execution_count": null,
   "id": "b427079a",
   "metadata": {
    "scrolled": false
   },
   "outputs": [],
   "source": []
  },
  {
   "cell_type": "markdown",
   "id": "1ffacb2b",
   "metadata": {},
   "source": [
    "We now have access to ClustalOmega (a sequence alignment tool) and CD-Hit (used to reduce the size of sequence lists). It is easy to see how we can run each program using the --help flag.\n",
    "\n",
    "First, type and then run:\n",
    "\n",
    "```python\n",
    "!clustalo --help\n",
    "```"
   ]
  },
  {
   "cell_type": "code",
   "execution_count": null,
   "id": "ed257be1",
   "metadata": {},
   "outputs": [],
   "source": []
  },
  {
   "cell_type": "markdown",
   "id": "cc75e9a6",
   "metadata": {},
   "source": [
    "The above output shows you all the flags you can pass ClustalOmega when running it.\n",
    "\n",
    "Next, look at the help for CD-Hit.\n",
    "\n",
    "Type and then run:\n",
    "\n",
    "```python\n",
    "!cd-hit --help\n",
    "```\n"
   ]
  },
  {
   "cell_type": "code",
   "execution_count": null,
   "id": "45a8d927",
   "metadata": {},
   "outputs": [],
   "source": []
  },
  {
   "cell_type": "markdown",
   "id": "bfd581e4",
   "metadata": {},
   "source": [
    "## 5. Reducing the sequence set with CD-Hit\n",
    "Okay, now let's use some of this software to reduce our sequence dataset and then align our sequences.\n",
    "\n",
    "In the code cell below, type and run:\n",
    "\n",
    "```python\n",
    "!cd-hit -i data/ck_blast_trim.fasta -o data/ck_90.fasta -c 0.90 -n 5\n",
    "```\n",
    "\n",
    "This takes the ck_blast_trim.fasta file as input, and outputs a file with sequences that are no more than 90% identical.\n"
   ]
  },
  {
   "cell_type": "code",
   "execution_count": null,
   "id": "9cbd0abc",
   "metadata": {},
   "outputs": [],
   "source": []
  },
  {
   "cell_type": "markdown",
   "id": "18f41040",
   "metadata": {},
   "source": [
    "## 6. Aligning Sequences with ClustalOmega\n",
    "\n",
    "The output above tells us how many clusters (sequences), we have in our new output file. \n",
    "\n",
    "Next, we will align the sequences using clustalo.\n",
    "\n",
    "In the code cell below, type and run:\n",
    "\n",
    "```python\n",
    "!clustalo -v -i data/ck_90.fasta -o data/ck_90.aln --outfmt=fasta --force\n",
    "```\n",
    "This takes the output from CD-Hit and alignes those sequences in fasta format."
   ]
  },
  {
   "cell_type": "code",
   "execution_count": null,
   "id": "165486b8",
   "metadata": {},
   "outputs": [],
   "source": []
  },
  {
   "cell_type": "markdown",
   "id": "5d925814",
   "metadata": {
    "scrolled": true
   },
   "source": [
    "## 7. Viewing a multiple sequence alignment\n",
    "\n",
    "Finally, we will install 2 more packages, panel and bokeh to build a multiple sequence alignment (MSA) viewer. You can find out more information about each here:\n",
    "\n",
    "https://panel.holoviz.org/\n",
    "https://bokeh.org/\n",
    "\n",
    "Type then run:\n",
    "\n",
    "```python\n",
    "!mamba install --yes panel bokeh\n",
    "```\n"
   ]
  },
  {
   "cell_type": "code",
   "execution_count": null,
   "id": "a6412366",
   "metadata": {},
   "outputs": [],
   "source": []
  },
  {
   "cell_type": "markdown",
   "id": "6d22c89b",
   "metadata": {},
   "source": [
    "The MSA code below is from: **https://dmnfarrell.github.io/bioinformatics/bokeh-sequence-aligner**\n",
    "\n",
    "and the adaptation to protein alignment is from: **Nichole Orench-Rivera**\n",
    "\n",
    "Run the cell below to import the necessary tools."
   ]
  },
  {
   "cell_type": "code",
   "execution_count": null,
   "id": "e386ecb9",
   "metadata": {},
   "outputs": [],
   "source": [
    "import os, io, random\n",
    "import string\n",
    "import numpy as np\n",
    "\n",
    "from Bio.Seq import Seq\n",
    "from Bio.Align import MultipleSeqAlignment\n",
    "from Bio import AlignIO, SeqIO\n",
    "\n",
    "import panel as pn\n",
    "import panel.widgets as pnw\n",
    "pn.extension()\n",
    "\n",
    "from bokeh.plotting import figure\n",
    "from bokeh.models import ColumnDataSource, Plot, Grid, Range1d\n",
    "from bokeh.models.glyphs import Text, Rect\n",
    "from bokeh.layouts import gridplot"
   ]
  },
  {
   "cell_type": "markdown",
   "id": "d7214c6a",
   "metadata": {},
   "source": [
    "You are welcome to look at the code below, but it is complicated and unecessary for viewing a sequence alignment. To see more of the code you can click the two-headed arrows at right or the arrowheads at left.\n",
    "\n",
    "Go ahead and run the code below."
   ]
  },
  {
   "cell_type": "code",
   "execution_count": null,
   "id": "0d5975d6",
   "metadata": {
    "code_folding": [
     1,
     29
    ]
   },
   "outputs": [],
   "source": [
    "\n",
    "def get_colors(seqs):\n",
    "    #make colors for bases in sequence\n",
    "    text = [i for s in list(seqs) for i in s]\n",
    "    #Use Zappo color scheme\n",
    "    clrs =  {'K':'red',\n",
    "             'R':'red',\n",
    "             'H':'red',\n",
    "             'D':'green',\n",
    "             'E':'green',\n",
    "             'Q':'blue',\n",
    "             'N':'blue',\n",
    "             'S':'blue',\n",
    "             'T':'blue',\n",
    "             'A':'blue',\n",
    "             'I':'blue',\n",
    "             'L':'blue',\n",
    "             'M':'blue',\n",
    "             'V':'blue',\n",
    "             'F':'orange',\n",
    "             'Y':'orange',\n",
    "             'W':'orange',\n",
    "             'C':'blue',\n",
    "             'P':'yellow',\n",
    "             'G':'orange',\n",
    "             '-':'white'}\n",
    "    colors = [clrs[i] for i in text]\n",
    "    return colors\n",
    "    \n",
    "def view_alignment(aln, fontsize=\"8pt\", font=\"courier\", plot_width=900):\n",
    "    \"\"\"Bokeh sequence alignment view\"\"\"\n",
    "\n",
    "    #make sequence and id lists from the aln object\n",
    "    seqs = [rec.seq for rec in (aln)]\n",
    "    ids = [rec.id for rec in aln]    \n",
    "    text = [i for s in list(seqs) for i in s]\n",
    "    colors = get_colors(seqs)    \n",
    "    N = len(seqs[0])\n",
    "    S = len(seqs)    \n",
    "    width = .4\n",
    "\n",
    "    x = np.arange(1,N+1)\n",
    "    y = np.arange(0,S,1)\n",
    "    #creates a 2D grid of coords from the 1D arrays\n",
    "    xx, yy = np.meshgrid(x, y)\n",
    "    #flattens the arrays\n",
    "    gx = xx.ravel()\n",
    "    gy = yy.flatten()\n",
    "    #use recty for rect coords with an offset\n",
    "    recty = gy+.5\n",
    "    h= 1/S\n",
    "    #now we can create the ColumnDataSource with all the arrays\n",
    "    source = ColumnDataSource(dict(x=gx, y=gy, recty=recty, text=text, colors=colors))\n",
    "    plot_height = len(seqs)*15+50\n",
    "    x_range = Range1d(0,N+1, bounds='auto')\n",
    "    if N>80:\n",
    "        viewlen=80\n",
    "    else:\n",
    "        viewlen=N\n",
    "    #view_range is for the close up view\n",
    "    view_range = (0,viewlen)\n",
    "    tools=\"xpan, reset, save\" #xwheel_zoom,\n",
    "\n",
    "    #entire sequence view (no text, with zoom)\n",
    "    p = figure(title=None, width=plot_width, height=50,\n",
    "               x_range=x_range, y_range=(0,S), tools=tools,\n",
    "               min_border=0, toolbar_location='below')\n",
    "    rects = Rect(x=\"x\", y=\"recty\",  width=1, height=1, fill_color=\"colors\",\n",
    "                 line_color=None, fill_alpha=0.6)\n",
    "    p.add_glyph(source, rects)\n",
    "    p.yaxis.visible = False\n",
    "    p.grid.visible = False\n",
    "\n",
    "\n",
    "\n",
    "    #sequence text view with ability to scroll along x axis\n",
    "    p1 = figure(title=None, width=plot_width, height=plot_height,\n",
    "                x_range=view_range, y_range=ids, tools=\"xpan,reset\",\n",
    "                min_border=0, toolbar_location='below')#, lod_factor=1)          \n",
    "    glyph = Text(x=\"x\", y=\"y\", text=\"text\", text_align='center',text_color=\"black\", \n",
    "                 text_font=\"helvetica\",text_font_size=fontsize)\n",
    "    rects = Rect(x=\"x\", y=\"recty\",  width=1, height=1, fill_color=\"colors\",\n",
    "                line_color=None, fill_alpha=0.4)\n",
    "    p1.add_glyph(source, glyph)\n",
    "    p1.add_glyph(source, rects)\n",
    "\n",
    "    p1.grid.visible = False\n",
    "    p1.xaxis.major_label_text_font_style = \"bold\"\n",
    "    p1.yaxis.minor_tick_line_width = 0\n",
    "    p1.yaxis.major_tick_line_width = 0\n",
    "\n",
    "    p = gridplot([[p],[p1]], toolbar_location='below')\n",
    "    #p = gridplot([[p]], toolbar_location='below')\n",
    "    return p\n"
   ]
  },
  {
   "cell_type": "markdown",
   "id": "ee886f21",
   "metadata": {},
   "source": [
    "Here is the last bit of magic! The code below sets the alignment to the ck_90.aln fasta alignment we produced above. The other two lines call the code to make a beautiful and interactive MSA viewer!\n",
    "\n",
    "Type or copy the code below in the code cell and run it!\n",
    "\n",
    "```python\n",
    "aln = AlignIO.read('data/ck_90.aln','fasta')\n",
    "p = view_alignment(aln)\n",
    "pn.pane.Bokeh(p)\n",
    "```"
   ]
  },
  {
   "cell_type": "code",
   "execution_count": null,
   "id": "f581d538",
   "metadata": {},
   "outputs": [],
   "source": []
  },
  {
   "cell_type": "markdown",
   "id": "d9771864",
   "metadata": {},
   "source": [
    "I hope you have learned a little about performing sequence analyses in a python-based Jupyter notebook. If you have follow up questions or a desire to collaborate on producing exercises for biochemistry classes or labs, don't hesitate to reach out!"
   ]
  }
 ],
 "metadata": {
  "celltoolbar": "Raw Cell Format",
  "kernelspec": {
   "display_name": "Python 3 (ipykernel)",
   "language": "python",
   "name": "python3"
  },
  "language_info": {
   "codemirror_mode": {
    "name": "ipython",
    "version": 3
   },
   "file_extension": ".py",
   "mimetype": "text/x-python",
   "name": "python",
   "nbconvert_exporter": "python",
   "pygments_lexer": "ipython3",
   "version": "3.9.7"
  }
 },
 "nbformat": 4,
 "nbformat_minor": 5
}
